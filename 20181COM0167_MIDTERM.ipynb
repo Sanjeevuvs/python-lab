{
  "nbformat": 4,
  "nbformat_minor": 0,
  "metadata": {
    "colab": {
      "name": "20181COM0167 MIDTERM.ipynb",
      "provenance": [],
      "collapsed_sections": [],
      "authorship_tag": "ABX9TyPooauVWz2477wSvOrGNhb9",
      "include_colab_link": true
    },
    "kernelspec": {
      "name": "python3",
      "display_name": "Python 3"
    }
  },
  "cells": [
    {
      "cell_type": "markdown",
      "metadata": {
        "id": "view-in-github",
        "colab_type": "text"
      },
      "source": [
        "<a href=\"https://colab.research.google.com/github/Sanjeevuvs/python-lab/blob/main/20181COM0167_MIDTERM.ipynb\" target=\"_parent\"><img src=\"https://colab.research.google.com/assets/colab-badge.svg\" alt=\"Open In Colab\"/></a>"
      ]
    },
    {
      "cell_type": "markdown",
      "metadata": {
        "id": "3eccSl83URpC"
      },
      "source": [
        "**17.Visits the following website https://www.flipkart.com/laptops/~buyback-guarantee-onlaptops-/pr?sid=6bo%2Cb5g&uniqBStoreParam1=val1&wid=11.productCard.PMU_V2\n",
        "Collect the product details such as product name, rating, and price from the Flipkart website\n",
        "and store details into product.csv file.**"
      ]
    },
    {
      "cell_type": "markdown",
      "metadata": {
        "id": "rkGsfAjEBHzM"
      },
      "source": [
        "**import libraries**"
      ]
    },
    {
      "cell_type": "code",
      "metadata": {
        "id": "vDg0b1rbAyX-"
      },
      "source": [
        "import urllib.request\n",
        "from bs4 import BeautifulSoup\n",
        "import requests\n",
        "import pandas as pd\n",
        "from urllib.error import URLError"
      ],
      "execution_count": null,
      "outputs": []
    },
    {
      "cell_type": "markdown",
      "metadata": {
        "id": "2ApJJqJpiFJf"
      },
      "source": [
        "**reading url**"
      ]
    },
    {
      "cell_type": "code",
      "metadata": {
        "id": "Mdj0B9Y-G5gL",
        "colab": {
          "base_uri": "https://localhost:8080/",
          "height": 34
        },
        "outputId": "393fce2e-f9ac-42aa-f2ab-91c53c9b7284"
      },
      "source": [
        "url=input(\"Enter flipcart Product Url- \")\n",
        "html = urllib.request.urlopen(url)\n",
        "soup= BeautifulSoup(html,\"html.parser\")\n"
      ],
      "execution_count": null,
      "outputs": [
        {
          "output_type": "stream",
          "text": [
            "Enter flipcart Product Url- https://www.flipkart.com/laptops/~buyback-guarantee-onlaptops-/pr?sid=6bo%2Cb5g&uniqBStoreParam1=val1&wid=11.productCard.PMU_V2\n"
          ],
          "name": "stdout"
        }
      ]
    },
    {
      "cell_type": "markdown",
      "metadata": {
        "id": "UmkJJ3OsiKln"
      },
      "source": [
        "**getting data from website**"
      ]
    },
    {
      "cell_type": "code",
      "metadata": {
        "id": "rBIppRucRFGB"
      },
      "source": [
        "main_box=soup.find_all('div',{'class':'_3O0U0u'})\n"
      ],
      "execution_count": null,
      "outputs": []
    },
    {
      "cell_type": "markdown",
      "metadata": {
        "id": "Y3gbmKxNiQ93"
      },
      "source": [
        "**storing data into list**"
      ]
    },
    {
      "cell_type": "code",
      "metadata": {
        "id": "Sf7e2mHHUSlx"
      },
      "source": [
        "data_list=[]\n",
        "\n",
        "for box in main_box:\n",
        "  temp_dict={}\n",
        "  temp_dict['TITLE']=box.find('div',{'class':\"_3wU53n\"}).text.strip()\n",
        "  temp_dict['RATINGS']=box.find('div',{'class':\"hGSR34\"}).text.strip()\n",
        "  temp_dict['PRICE']=box.find('div',{'class':\"_1vC4OE _2rQ-NK\"}).text.strip()\n",
        "  data_list.append(temp_dict)"
      ],
      "execution_count": null,
      "outputs": []
    },
    {
      "cell_type": "markdown",
      "metadata": {
        "id": "f85PZpdbiXIL"
      },
      "source": [
        "**coverting data into dataframe**"
      ]
    },
    {
      "cell_type": "code",
      "metadata": {
        "id": "EDA7lNGnUTgR",
        "colab": {
          "base_uri": "https://localhost:8080/",
          "height": 767
        },
        "outputId": "0d6d2fd5-4220-4439-b751-aba41ad922ff"
      },
      "source": [
        "df=pd.DataFrame(data_list)\n",
        "df"
      ],
      "execution_count": null,
      "outputs": [
        {
          "output_type": "execute_result",
          "data": {
            "text/html": [
              "<div>\n",
              "<style scoped>\n",
              "    .dataframe tbody tr th:only-of-type {\n",
              "        vertical-align: middle;\n",
              "    }\n",
              "\n",
              "    .dataframe tbody tr th {\n",
              "        vertical-align: top;\n",
              "    }\n",
              "\n",
              "    .dataframe thead th {\n",
              "        text-align: right;\n",
              "    }\n",
              "</style>\n",
              "<table border=\"1\" class=\"dataframe\">\n",
              "  <thead>\n",
              "    <tr style=\"text-align: right;\">\n",
              "      <th></th>\n",
              "      <th>TITLE</th>\n",
              "      <th>RATINGS</th>\n",
              "      <th>PRICE</th>\n",
              "    </tr>\n",
              "  </thead>\n",
              "  <tbody>\n",
              "    <tr>\n",
              "      <th>0</th>\n",
              "      <td>Acer Nitro 5 Ryzen 5 Quad Core - (8 GB/1 TB HD...</td>\n",
              "      <td>4.3</td>\n",
              "      <td>₹49,990</td>\n",
              "    </tr>\n",
              "    <tr>\n",
              "      <th>1</th>\n",
              "      <td>Lenovo Ideapad 130 Core i3 7th Gen - (4 GB/1 T...</td>\n",
              "      <td>4</td>\n",
              "      <td>₹27,990</td>\n",
              "    </tr>\n",
              "    <tr>\n",
              "      <th>2</th>\n",
              "      <td>HP 14q Core i3 7th Gen - (8 GB/256 GB SSD/Wind...</td>\n",
              "      <td>4.3</td>\n",
              "      <td>₹32,990</td>\n",
              "    </tr>\n",
              "    <tr>\n",
              "      <th>3</th>\n",
              "      <td>Asus TUF Gaming Ryzen 5 Quad Core - (8 GB/1 TB...</td>\n",
              "      <td>4.6</td>\n",
              "      <td>₹46,990</td>\n",
              "    </tr>\n",
              "    <tr>\n",
              "      <th>4</th>\n",
              "      <td>HP Pavilion x360 Core i3 8th Gen - (4 GB/256 G...</td>\n",
              "      <td>4.5</td>\n",
              "      <td>₹41,990</td>\n",
              "    </tr>\n",
              "    <tr>\n",
              "      <th>5</th>\n",
              "      <td>Dell 14 3000 Core i3 7th Gen - (4 GB/1 TB HDD/...</td>\n",
              "      <td>4.1</td>\n",
              "      <td>₹25,490</td>\n",
              "    </tr>\n",
              "    <tr>\n",
              "      <th>6</th>\n",
              "      <td>Lenovo Ideapad 130 Core i3 7th Gen - (4 GB/1 T...</td>\n",
              "      <td>4</td>\n",
              "      <td>₹26,990</td>\n",
              "    </tr>\n",
              "    <tr>\n",
              "      <th>7</th>\n",
              "      <td>Asus VivoBook Gaming Core i7 9th Gen - (16 GB ...</td>\n",
              "      <td>4.2</td>\n",
              "      <td>₹75,990</td>\n",
              "    </tr>\n",
              "    <tr>\n",
              "      <th>8</th>\n",
              "      <td>Apple MacBook Air Core i5 5th Gen - (8 GB/128 ...</td>\n",
              "      <td>4.7</td>\n",
              "      <td>₹66,990</td>\n",
              "    </tr>\n",
              "    <tr>\n",
              "      <th>9</th>\n",
              "      <td>HP 14q Core i5 8th Gen - (8 GB/1 TB HDD/Window...</td>\n",
              "      <td>4.2</td>\n",
              "      <td>₹41,990</td>\n",
              "    </tr>\n",
              "    <tr>\n",
              "      <th>10</th>\n",
              "      <td>HP 15 Pentium Gold - (4 GB/1 TB HDD/Windows 10...</td>\n",
              "      <td>4.3</td>\n",
              "      <td>₹22,490</td>\n",
              "    </tr>\n",
              "    <tr>\n",
              "      <th>11</th>\n",
              "      <td>HP 15s Core i3 8th Gen - (8 GB/1 TB HDD/Window...</td>\n",
              "      <td>4.2</td>\n",
              "      <td>₹36,990</td>\n",
              "    </tr>\n",
              "    <tr>\n",
              "      <th>12</th>\n",
              "      <td>Lenovo Ideapad S145 Core i5 8th Gen - (8 GB/1 ...</td>\n",
              "      <td>4.2</td>\n",
              "      <td>₹46,990</td>\n",
              "    </tr>\n",
              "    <tr>\n",
              "      <th>13</th>\n",
              "      <td>Lenovo Ideapad 330 Celeron Dual Core - (4 GB/1...</td>\n",
              "      <td>4</td>\n",
              "      <td>₹19,990</td>\n",
              "    </tr>\n",
              "    <tr>\n",
              "      <th>14</th>\n",
              "      <td>Acer Nitro 5 Core i7 9th Gen - (8 GB/1 TB HDD/...</td>\n",
              "      <td>4.6</td>\n",
              "      <td>₹69,990</td>\n",
              "    </tr>\n",
              "    <tr>\n",
              "      <th>15</th>\n",
              "      <td>HP 15q Core i5 8th Gen - (8 GB/1 TB HDD/Window...</td>\n",
              "      <td>4.3</td>\n",
              "      <td>₹44,990</td>\n",
              "    </tr>\n",
              "    <tr>\n",
              "      <th>16</th>\n",
              "      <td>Lenovo Ideapad 330s Core i3 7th Gen - (4 GB/1 ...</td>\n",
              "      <td>4</td>\n",
              "      <td>₹42,309</td>\n",
              "    </tr>\n",
              "    <tr>\n",
              "      <th>17</th>\n",
              "      <td>HP 15 Ryzen 3 Dual Core - (4 GB/1 TB HDD/Windo...</td>\n",
              "      <td>4</td>\n",
              "      <td>₹25,990</td>\n",
              "    </tr>\n",
              "    <tr>\n",
              "      <th>18</th>\n",
              "      <td>Lenovo Ideapad 130 Core i3 7th Gen - (4 GB/1 T...</td>\n",
              "      <td>3.9</td>\n",
              "      <td>₹25,990</td>\n",
              "    </tr>\n",
              "    <tr>\n",
              "      <th>19</th>\n",
              "      <td>Lenovo Ideapad S145 APU Dual Core A6 - (4 GB/1...</td>\n",
              "      <td>4</td>\n",
              "      <td>₹19,990</td>\n",
              "    </tr>\n",
              "    <tr>\n",
              "      <th>20</th>\n",
              "      <td>Acer Aspire 5 Core i3 8th Gen - (4 GB/1 TB HDD...</td>\n",
              "      <td>3.9</td>\n",
              "      <td>₹33,990</td>\n",
              "    </tr>\n",
              "    <tr>\n",
              "      <th>21</th>\n",
              "      <td>Asus VivoBook Gaming Core i5 9th Gen - (8 GB +...</td>\n",
              "      <td>4.6</td>\n",
              "      <td>₹54,990</td>\n",
              "    </tr>\n",
              "    <tr>\n",
              "      <th>22</th>\n",
              "      <td>HP 15q APU Dual Core A9 - (4 GB/1 TB HDD/Windo...</td>\n",
              "      <td>4.1</td>\n",
              "      <td>₹22,990</td>\n",
              "    </tr>\n",
              "    <tr>\n",
              "      <th>23</th>\n",
              "      <td>HP Pavilion 14-ce Core i5 10th Gen - (8 GB/512...</td>\n",
              "      <td>4.6</td>\n",
              "      <td>₹54,990</td>\n",
              "    </tr>\n",
              "  </tbody>\n",
              "</table>\n",
              "</div>"
            ],
            "text/plain": [
              "                                                TITLE RATINGS    PRICE\n",
              "0   Acer Nitro 5 Ryzen 5 Quad Core - (8 GB/1 TB HD...     4.3  ₹49,990\n",
              "1   Lenovo Ideapad 130 Core i3 7th Gen - (4 GB/1 T...       4  ₹27,990\n",
              "2   HP 14q Core i3 7th Gen - (8 GB/256 GB SSD/Wind...     4.3  ₹32,990\n",
              "3   Asus TUF Gaming Ryzen 5 Quad Core - (8 GB/1 TB...     4.6  ₹46,990\n",
              "4   HP Pavilion x360 Core i3 8th Gen - (4 GB/256 G...     4.5  ₹41,990\n",
              "5   Dell 14 3000 Core i3 7th Gen - (4 GB/1 TB HDD/...     4.1  ₹25,490\n",
              "6   Lenovo Ideapad 130 Core i3 7th Gen - (4 GB/1 T...       4  ₹26,990\n",
              "7   Asus VivoBook Gaming Core i7 9th Gen - (16 GB ...     4.2  ₹75,990\n",
              "8   Apple MacBook Air Core i5 5th Gen - (8 GB/128 ...     4.7  ₹66,990\n",
              "9   HP 14q Core i5 8th Gen - (8 GB/1 TB HDD/Window...     4.2  ₹41,990\n",
              "10  HP 15 Pentium Gold - (4 GB/1 TB HDD/Windows 10...     4.3  ₹22,490\n",
              "11  HP 15s Core i3 8th Gen - (8 GB/1 TB HDD/Window...     4.2  ₹36,990\n",
              "12  Lenovo Ideapad S145 Core i5 8th Gen - (8 GB/1 ...     4.2  ₹46,990\n",
              "13  Lenovo Ideapad 330 Celeron Dual Core - (4 GB/1...       4  ₹19,990\n",
              "14  Acer Nitro 5 Core i7 9th Gen - (8 GB/1 TB HDD/...     4.6  ₹69,990\n",
              "15  HP 15q Core i5 8th Gen - (8 GB/1 TB HDD/Window...     4.3  ₹44,990\n",
              "16  Lenovo Ideapad 330s Core i3 7th Gen - (4 GB/1 ...       4  ₹42,309\n",
              "17  HP 15 Ryzen 3 Dual Core - (4 GB/1 TB HDD/Windo...       4  ₹25,990\n",
              "18  Lenovo Ideapad 130 Core i3 7th Gen - (4 GB/1 T...     3.9  ₹25,990\n",
              "19  Lenovo Ideapad S145 APU Dual Core A6 - (4 GB/1...       4  ₹19,990\n",
              "20  Acer Aspire 5 Core i3 8th Gen - (4 GB/1 TB HDD...     3.9  ₹33,990\n",
              "21  Asus VivoBook Gaming Core i5 9th Gen - (8 GB +...     4.6  ₹54,990\n",
              "22  HP 15q APU Dual Core A9 - (4 GB/1 TB HDD/Windo...     4.1  ₹22,990\n",
              "23  HP Pavilion 14-ce Core i5 10th Gen - (8 GB/512...     4.6  ₹54,990"
            ]
          },
          "metadata": {
            "tags": []
          },
          "execution_count": 55
        }
      ]
    },
    {
      "cell_type": "markdown",
      "metadata": {
        "id": "V9QPoJmzieBf"
      },
      "source": [
        "**saving the data as csv file**"
      ]
    },
    {
      "cell_type": "code",
      "metadata": {
        "id": "vFCEGTfShsCy"
      },
      "source": [
        "df.to_csv('product.csv')"
      ],
      "execution_count": null,
      "outputs": []
    }
  ]
}