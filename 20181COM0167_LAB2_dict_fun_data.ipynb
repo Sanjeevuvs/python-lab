{
  "nbformat": 4,
  "nbformat_minor": 0,
  "metadata": {
    "colab": {
      "name": "20181COM0167_LAB2_dict_fun_data.ipynb",
      "provenance": [],
      "collapsed_sections": [],
      "include_colab_link": true
    },
    "kernelspec": {
      "name": "python3",
      "display_name": "Python 3"
    }
  },
  "cells": [
    {
      "cell_type": "markdown",
      "metadata": {
        "id": "view-in-github",
        "colab_type": "text"
      },
      "source": [
        "<a href=\"https://colab.research.google.com/github/Sanjeevuvs/python-lab/blob/main/20181COM0167_LAB2_dict_fun_data.ipynb\" target=\"_parent\"><img src=\"https://colab.research.google.com/assets/colab-badge.svg\" alt=\"Open In Colab\"/></a>"
      ]
    },
    {
      "cell_type": "markdown",
      "metadata": {
        "id": "OAGr_35n3Y1f"
      },
      "source": [
        "Lab 2 covers exercises on dictionaries, functions and data frames. \n",
        " \n",
        "Excercise 1 : Given an integer n, generate a dictionary (i, i*i), where i is an integer between 1 and n(included)\n",
        "n = 5\n",
        "d ={1:1, 2:4, 3:9, 4:16, 5:25}"
      ]
    },
    {
      "cell_type": "code",
      "metadata": {
        "id": "jHeDrBDAaxpt",
        "colab": {
          "base_uri": "https://localhost:8080/",
          "height": 51
        },
        "outputId": "9e25653a-5680-434b-a27a-0636590b2041"
      },
      "source": [
        " \n",
        "item={}\n",
        "n=int(input(\"enter the value of n\"))\n",
        "for i in range(n):\n",
        "  item[i+1]=(i+1)**2\n",
        " \n",
        "print(item)"
      ],
      "execution_count": null,
      "outputs": [
        {
          "output_type": "stream",
          "text": [
            "enter the value of n5\n",
            "{1: 1, 2: 4, 3: 9, 4: 16, 5: 25}\n"
          ],
          "name": "stdout"
        }
      ]
    },
    {
      "cell_type": "markdown",
      "metadata": {
        "id": "v3vTHb_MfF_E"
      },
      "source": [
        "Exercise 2 : Read an integer N. With all integers from 1 to N, using list comprehension, create a list of tuples which has the integer and its cube, iff the integer is divisible by 5 and 7. Convert this list into a dictionary."
      ]
    },
    {
      "cell_type": "code",
      "metadata": {
        "id": "UzBvpYS3bjsM",
        "colab": {
          "base_uri": "https://localhost:8080/",
          "height": 68
        },
        "outputId": "f03d8dc4-c4b5-47ba-8b38-f9ade3454dbf"
      },
      "source": [
        " \n",
        "n=int(input(\"enter the n Value\"))\n",
        "p=[(x,x**3) for x in range(1,n+1) if(x%5==0)&(x%7==0)]\n",
        "print(p)\n",
        "print(dict(p))"
      ],
      "execution_count": null,
      "outputs": [
        {
          "output_type": "stream",
          "text": [
            "enter the n Value55\n",
            "[(35, 42875)]\n",
            "{35: 42875}\n"
          ],
          "name": "stdout"
        }
      ]
    },
    {
      "cell_type": "markdown",
      "metadata": {
        "id": "tojGqbUkiJWj"
      },
      "source": [
        "Exercise 3: Read an integer N. Create a dictionary where the keys are the numbers from 1 to N. Values are tuples having the square of the integer and its factorial. Sample Input : N = 4. Output : {1:(1,1), 2:(4,2),3:(9,6),  4:(16, 24)}"
      ]
    },
    {
      "cell_type": "code",
      "metadata": {
        "id": "XlR8SDOsiiTV",
        "colab": {
          "base_uri": "https://localhost:8080/",
          "height": 71
        },
        "outputId": "78f8210b-77e7-47c6-b15f-ac2799afdff3"
      },
      "source": [
        " \n",
        "n=int(input(\"enter the number\"))\n",
        "d={}\n",
        "for i in range(1,n+1):\n",
        "  fact=1\n",
        "  for j in range(1,i+1):\n",
        "    fact=fact*j\n",
        "  d[i]=(i*i,fact)\n",
        "print(d)"
      ],
      "execution_count": null,
      "outputs": [
        {
          "output_type": "stream",
          "text": [
            "enter the number4\n",
            "{1: (1, 1), 2: (4, 2), 3: (9, 6), 4: (16, 24)}\n"
          ],
          "name": "stdout"
        }
      ]
    },
    {
      "cell_type": "markdown",
      "metadata": {
        "id": "_e_kRwvQkZbF"
      },
      "source": [
        "Exercise 4: Create a list as shown in sample input, where the list can contain single elements, lists, tuples or dictionaries with numeric keys. Find the sum of all elements in the list collectively. Sample Input : [1, 2, [66,44,55], (2,0,8,9), {11:'eleven'}] Output : Sum of the list is 198 "
      ]
    },
    {
      "cell_type": "code",
      "metadata": {
        "id": "u1mUGfrhjJzL",
        "colab": {
          "base_uri": "https://localhost:8080/",
          "height": 71
        },
        "outputId": "46c7fa62-623a-4fc0-c54c-5e08b3fd6a68"
      },
      "source": [
        " \n",
        "inp=eval(input(\"enter a list []\"))\n",
        "s=0\n",
        "for i in inp:\n",
        "  if type(i)==list or type(i)==tuple:\n",
        "    s=s+sum(i)\n",
        "  elif type(i) == dict:\n",
        "    s=s+ sum(i.keys())\n",
        "  else:\n",
        "    s=s+i\n",
        "print(\"the final sum is\",s)"
      ],
      "execution_count": null,
      "outputs": [
        {
          "output_type": "stream",
          "text": [
            "enter a list [][1, 2, [66,44,55], (2,0,8,9), {11:'eleven'}]\n",
            "the final sum is 198\n"
          ],
          "name": "stdout"
        }
      ]
    },
    {
      "cell_type": "markdown",
      "metadata": {
        "id": "XP12kqiP4RNd"
      },
      "source": [
        "Exercise 5: Create a dictionary having each day and its temperature in a week. Program should then create a list of days when the temperature is between 32 to 35.\n",
        "Sample Input : {'sun':25, 'mon':34, 'tue':33, 'wed':29, 'thu':28, 'fri':35, 'sat':40}**\n",
        "Output : ['mon', 'tue', 'fri']"
      ]
    },
    {
      "cell_type": "code",
      "metadata": {
        "id": "ve7QvpV5jKo-",
        "colab": {
          "base_uri": "https://localhost:8080/",
          "height": 88
        },
        "outputId": "b673c4d3-f969-4d5d-af1e-05fb3e61e1c9"
      },
      "source": [
        "temp=eval(input(\"give the temperature as dictionary \"))\n",
        "out=[]\n",
        "print(temp)\n",
        "for i in temp:\n",
        "    if temp[i]>=32 and temp[i]<=35:\n",
        "         out.append(i)\n",
        "print(out)"
      ],
      "execution_count": null,
      "outputs": [
        {
          "output_type": "stream",
          "text": [
            "give the temperature as dictionary {'sun':25, 'mon':34, 'tue':33, 'wed':29, 'thu':28, 'fri':35, 'sat':40}\n",
            "{'sun': 25, 'mon': 34, 'tue': 33, 'wed': 29, 'thu': 28, 'fri': 35, 'sat': 40}\n",
            "['mon', 'tue', 'fri']\n"
          ],
          "name": "stdout"
        }
      ]
    },
    {
      "cell_type": "markdown",
      "metadata": {
        "id": "mSCQhjwL6YSe"
      },
      "source": [
        "Exercise 6: Given cities = ['Delhi', 'Mumbai', 'Chennai', 'Bangalore'] and pollution_level = [56, 45, 40, 44], create a dictionary using cities as keys and pollution_level as values and dictionary comprehension.\n",
        "Output : {'Delhi':56, 'Mumbai':45, 'Chennai':40, 'Bangalore':44} \n",
        "\n"
      ]
    },
    {
      "cell_type": "code",
      "metadata": {
        "id": "nVmQpwzzjLUf",
        "colab": {
          "base_uri": "https://localhost:8080/",
          "height": 88
        },
        "outputId": "c88fae88-4e1c-49c8-83a0-55c22e615211"
      },
      "source": [
        "city=eval(input(\"enter the city names as list\"))\n",
        "plevel=eval(input(\"enter the pollution level\"))\n",
        "out={}\n",
        "if len(city)==len(plevel):\n",
        "     for i in range(len(city)):\n",
        "         out[city[i]] = plevel[i]\n",
        "else:\n",
        " print(\"error in the list items\")\n",
        " \n",
        "print(out)"
      ],
      "execution_count": null,
      "outputs": [
        {
          "output_type": "stream",
          "text": [
            "enter the city names as list ['Delhi', 'Mumbai', 'Chennai', 'Bangalore']\n",
            "enter the pollution level[56, 45, 40, 44]\n",
            "{'Delhi': 56, 'Mumbai': 45, 'Chennai': 40, 'Bangalore': 44}\n"
          ],
          "name": "stdout"
        }
      ]
    },
    {
      "cell_type": "code",
      "metadata": {
        "id": "lgou4zXxpnvU",
        "colab": {
          "base_uri": "https://localhost:8080/",
          "height": 88
        },
        "outputId": "bdb93d8a-4deb-4ea8-cdd2-d6b09c2a8222"
      },
      "source": [
        "city=eval(input(\"enter the city names as list\"))\n",
        "plevel=eval(input(\"enter the pollution level\"))\n",
        "d={  i:j  for(i,j) in zip(city,plevel)}\n",
        "print(d)"
      ],
      "execution_count": null,
      "outputs": [
        {
          "output_type": "stream",
          "text": [
            "enter the city names as list['Delhi', 'Mumbai', 'Chennai', 'Bangalore']\n",
            "enter the pollution level[56, 45, 44]\n",
            "{'Delhi': 56, 'Mumbai': 45, 'Chennai': 44}\n"
          ],
          "name": "stdout"
        }
      ]
    },
    {
      "cell_type": "markdown",
      "metadata": {
        "id": "l8fPiHlE8RJC"
      },
      "source": [
        "Exercise 7:Professor Smith is the faculty advisor of 3 students. Initially he received only the ID Nos of his advisees from Dean's office as IDNO = [20181ISE349, 20181ISE550, 20181ISE560, 20181ISE289]. After his first meeting with his advisees he collected their CGPA = [8.9, 3.0, 5.5, 7.8] respectively. \n",
        "a) Help the professor to consolidate these two lists into a dictioanry\n",
        "   Output : {'20181ISE349':8.9, '20181ISE550':3.0, '20181ISE560':5.5, '20181ISE289':7.8\n",
        "b) Help the professor to identify the slow learners, students with CGPA of 4 and below\n",
        "   Output: ['20181ISE550']\n",
        "c) In his next meeting, he decides to meet his advisees based on their CGPA, prioritizing slow learners first. Preapre a visiting list for him\n",
        "   Output : ['20181ISE550', '20181ISE560', '20181ISE289', '20181ISE349'] "
      ]
    },
    {
      "cell_type": "code",
      "metadata": {
        "id": "xZuB0k8mjMDg",
        "colab": {
          "base_uri": "https://localhost:8080/",
          "height": 71
        },
        "outputId": "9eecc07d-a046-4821-90fa-f2bec0677335"
      },
      "source": [
        " \n",
        "idno=['20181ISE349','20181ISE550','20181ISE560','20181ISE289']\n",
        "CGPA=[8.9,3.0,5.5,7.8]\n",
        "d={  i:j  for(i,j) in zip(idno,CGPA)}\n",
        "print(d)\n",
        "out1=[]\n",
        "for i in d:\n",
        "  if d[i]<=4:\n",
        "    out1.append(i)\n",
        "print('the slow learners are',out1)"
      ],
      "execution_count": null,
      "outputs": [
        {
          "output_type": "stream",
          "text": [
            "{'20181ISE349': 8.9, '20181ISE550': 3.0, '20181ISE560': 5.5, '20181ISE289': 7.8}\n",
            "the slow learners are ['20181ISE550']\n"
          ],
          "name": "stdout"
        }
      ]
    },
    {
      "cell_type": "code",
      "metadata": {
        "id": "lon-P5l0jaQp",
        "colab": {
          "base_uri": "https://localhost:8080/",
          "height": 88
        },
        "outputId": "576a2fba-e5de-45f2-c345-26f0a281fa67"
      },
      "source": [
        " \n",
        "import operator\n",
        "idno=['20181ISE349','20181ISE550','20181ISE560','20181ISE289']\n",
        "CGPA=[8.9,3.0,5.5,7.8]\n",
        "d={  i:j  for(i,j) in zip(idno,CGPA)}\n",
        "print(d)\n",
        "out1=[]\n",
        "for i in d:\n",
        "  if d[i]<=4:\n",
        "    out1.append(i)\n",
        "d1=sorted(d.items(), key=operator.itemgetter(1))\n",
        "print(dict(d1).keys())\n",
        "print('the slow learners are',out1)"
      ],
      "execution_count": null,
      "outputs": [
        {
          "output_type": "stream",
          "text": [
            "{'20181ISE349': 8.9, '20181ISE550': 3.0, '20181ISE560': 5.5, '20181ISE289': 7.8}\n",
            "dict_keys(['20181ISE550', '20181ISE560', '20181ISE289', '20181ISE349'])\n",
            "the slow learners are ['20181ISE550']\n"
          ],
          "name": "stdout"
        }
      ]
    },
    {
      "cell_type": "markdown",
      "metadata": {
        "id": "yfuF4Bp7-M9V"
      },
      "source": [
        "Exercise 8: USing a function to find factorial, compute the binomial coefficient nCr =  n!/(r! )(n-r)!, for a given value of n and r."
      ]
    },
    {
      "cell_type": "code",
      "metadata": {
        "id": "6Y3ppOnbjM-n",
        "colab": {
          "base_uri": "https://localhost:8080/",
          "height": 68
        },
        "outputId": "57bda051-eb1c-4316-a696-0a4ff036dd30"
      },
      "source": [
        " \n",
        "def my_fact(x):\n",
        "  f=1\n",
        "  for i in range(1,x+1):\n",
        "    f=f*i\n",
        "  return(f)\n",
        "n=int(input(\"enter a number n\"))\n",
        "r=int(input(\"enter r\"))\n",
        "ncr=my_fact(n)/(my_fact(r) * my_fact(n-r))\n",
        "print(ncr)"
      ],
      "execution_count": null,
      "outputs": [
        {
          "output_type": "stream",
          "text": [
            "enter a number n6\n",
            "enter r3\n",
            "20.0\n"
          ],
          "name": "stdout"
        }
      ]
    },
    {
      "cell_type": "markdown",
      "metadata": {
        "id": "GSNs5AgSTPqp"
      },
      "source": [
        "Exercise 9: Create a list of list with the daily average temperatures of a week as [['sun',33.3], ['mon',32.1], ['tue',34.5], ['wed',28.7], ['thu',29.9], ['fri',28.6], ['sat',25.5]]. Using a function find the warmest and the coldest day of the week and the corresponding temperature. Ouput : Warmest is ['tue':34.5] Coldest is ['sat':25.5]\n"
      ]
    },
    {
      "cell_type": "code",
      "metadata": {
        "id": "QDNOJ8VujibZ",
        "colab": {
          "base_uri": "https://localhost:8080/",
          "height": 71
        },
        "outputId": "34cd3200-a6e5-417c-c68b-23733d1900a2"
      },
      "source": [
        " \n",
        "def maxmin(t):\n",
        "  out=sorted(t,key=operator.itemgetter(1))\n",
        "  return(out)\n",
        " \n",
        "import operator\n",
        "temps = [['sun',33.3], ['mon',32.1], ['tue',34.5], ['wed',28.7], ['thu',29.9], ['fri',28.6], ['sat',25.5]]\n",
        "out1=maxmin(temps)\n",
        "print(\"coldest day and its temp is\",out1[0])\n",
        "print(\"hottest day and its temp is\",out1[-1])"
      ],
      "execution_count": null,
      "outputs": [
        {
          "output_type": "stream",
          "text": [
            "coldest day and its temp is ['sat', 25.5]\n",
            "hottest day and its temp is ['tue', 34.5]\n"
          ],
          "name": "stdout"
        }
      ]
    }
  ]
}