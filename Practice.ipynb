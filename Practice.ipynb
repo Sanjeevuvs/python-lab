{
  "nbformat": 4,
  "nbformat_minor": 0,
  "metadata": {
    "colab": {
      "name": "Practice.ipynb",
      "provenance": [],
      "collapsed_sections": [],
      "authorship_tag": "ABX9TyNBfLJFsd1gJTCj5p6nEiRG",
      "include_colab_link": true
    },
    "kernelspec": {
      "name": "python3",
      "display_name": "Python 3"
    },
    "language_info": {
      "name": "python"
    }
  },
  "cells": [
    {
      "cell_type": "markdown",
      "metadata": {
        "id": "view-in-github",
        "colab_type": "text"
      },
      "source": [
        "<a href=\"https://colab.research.google.com/github/Sanjeevuvs/python-lab/blob/main/Practice.ipynb\" target=\"_parent\"><img src=\"https://colab.research.google.com/assets/colab-badge.svg\" alt=\"Open In Colab\"/></a>"
      ]
    },
    {
      "cell_type": "code",
      "metadata": {
        "colab": {
          "base_uri": "https://localhost:8080/"
        },
        "id": "pIAh7rXKCE4_",
        "outputId": "c20f1433-c017-48be-f9ed-45901f3171b3"
      },
      "source": [
        "def firsteven(a,n):\n",
        "  b=[]\n",
        "  for i in range(n):\n",
        "      if (i%2==0):\n",
        "        b.append(a[i])\n",
        "  print(\"the array with even members of first:\",b)\n",
        "      \n",
        "a = [ 1, 2, 6, 3, 4, 5 ]\n",
        "n = len(a)\n",
        "firsteven(a,n)"
      ],
      "execution_count": null,
      "outputs": [
        {
          "output_type": "stream",
          "text": [
            "the array with even members of first: [1, 6, 4]\n"
          ],
          "name": "stdout"
        }
      ]
    },
    {
      "cell_type": "code",
      "metadata": {
        "colab": {
          "base_uri": "https://localhost:8080/"
        },
        "id": "v6vTHSDtpTEe",
        "outputId": "ca8ba7ed-0831-41f5-f3e1-d975fe7b90a4"
      },
      "source": [
        "def findPresent(a, b, n, m):\n",
        "  for i in range(n):\n",
        "    for j in range(m):\n",
        "      if (a[i] == b[j]):\n",
        "        print(a[i], end = \" \")\n",
        "  \n",
        "      \n",
        "a = [ 1, 2, 6, 3, 4, 5 ]\n",
        "b = [ 2, 4, 3, 1, 0 ]\n",
        "n = len(a)\n",
        "m = len(b)\n",
        "findPresent(a, b, n, m)"
      ],
      "execution_count": null,
      "outputs": [
        {
          "output_type": "stream",
          "text": [
            "1 2 3 4 "
          ],
          "name": "stdout"
        }
      ]
    },
    {
      "cell_type": "code",
      "metadata": {
        "colab": {
          "base_uri": "https://localhost:8080/"
        },
        "id": "XNVHXPe1rUH9",
        "outputId": "54035747-3685-4951-fa24-b87f85d378c4"
      },
      "source": [
        "mylist=[10,20,30,'apple',True,8.10]\n",
        "print(\"mylsit is :\",mylist)\n",
        "mylist.append(30)\n",
        "mylist.append(40)\n",
        "print(\"Mylist after append:\",mylist)\n",
        "reversedlist=mylist[::-1]\n",
        "print(\"reversedlist is:\",reversedlist)"
      ],
      "execution_count": null,
      "outputs": [
        {
          "output_type": "stream",
          "text": [
            "mylsit is : [10, 20, 30, 'apple', True, 8.1]\n",
            "Mylist after append: [10, 20, 30, 'apple', True, 8.1, 30, 40]\n",
            "reversedlist is: [40, 30, 8.1, True, 'apple', 30, 20, 10]\n"
          ],
          "name": "stdout"
        }
      ]
    },
    {
      "cell_type": "code",
      "metadata": {
        "id": "XKoyk205saZv"
      },
      "source": [
        "mydict={1:\"data\" ,2:\"information\" , 3:\"text\"}\n",
        "print(\"my dictoniary is:\",mydict)\n"
      ],
      "execution_count": null,
      "outputs": []
    }
  ]
}