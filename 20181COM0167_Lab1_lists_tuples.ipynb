{
  "nbformat": 4,
  "nbformat_minor": 0,
  "metadata": {
    "colab": {
      "name": "20181COM0167_Lab1_lists_tuples.ipynb",
      "provenance": [],
      "collapsed_sections": [],
      "authorship_tag": "ABX9TyO0CMPIBpR4/2w44E8RhaJz",
      "include_colab_link": true
    },
    "kernelspec": {
      "name": "python3",
      "display_name": "Python 3"
    }
  },
  "cells": [
    {
      "cell_type": "markdown",
      "metadata": {
        "id": "view-in-github",
        "colab_type": "text"
      },
      "source": [
        "<a href=\"https://colab.research.google.com/github/Sanjeevuvs/python-lab/blob/main/20181COM0167_Lab1_lists_tuples.ipynb\" target=\"_parent\"><img src=\"https://colab.research.google.com/assets/colab-badge.svg\" alt=\"Open In Colab\"/></a>"
      ]
    },
    {
      "cell_type": "code",
      "metadata": {
        "id": "Bt-RhJesQgvt",
        "colab": {
          "base_uri": "https://localhost:8080/"
        },
        "outputId": "f135dedb-2fdf-4275-da16-4fca8b533a53"
      },
      "source": [
        "L=[1,2,3]\n",
        "print(L)"
      ],
      "execution_count": null,
      "outputs": [
        {
          "output_type": "stream",
          "text": [
            "[1, 2, 3]\n"
          ],
          "name": "stdout"
        }
      ]
    },
    {
      "cell_type": "code",
      "metadata": {
        "id": "aki02OKCQy9c",
        "colab": {
          "base_uri": "https://localhost:8080/"
        },
        "outputId": "0e301d27-50c7-4989-ee1f-829b89a353e1"
      },
      "source": [
        "L=list('abc')\n",
        "print(L)\n",
        "type(L)"
      ],
      "execution_count": null,
      "outputs": [
        {
          "output_type": "stream",
          "text": [
            "['a', 'b', 'c']\n"
          ],
          "name": "stdout"
        },
        {
          "output_type": "execute_result",
          "data": {
            "text/plain": [
              "list"
            ]
          },
          "metadata": {
            "tags": []
          },
          "execution_count": 2
        }
      ]
    },
    {
      "cell_type": "markdown",
      "metadata": {
        "id": "l1Fx4QT-RDM7"
      },
      "source": [
        "Python basics"
      ]
    },
    {
      "cell_type": "code",
      "metadata": {
        "id": "hvNJtzLVQzOG",
        "colab": {
          "base_uri": "https://localhost:8080/"
        },
        "outputId": "f345d85d-dd66-4732-b266-60f8adfd7d11"
      },
      "source": [
        "L = ['a', 'b', ['cc', 'dd', ['eee', 'fff']], 'g', 'h']\n",
        "print(L[2])\n",
        "print(L[2][2])"
      ],
      "execution_count": null,
      "outputs": [
        {
          "output_type": "stream",
          "text": [
            "['cc', 'dd', ['eee', 'fff']]\n",
            "['eee', 'fff']\n"
          ],
          "name": "stdout"
        }
      ]
    },
    {
      "cell_type": "code",
      "metadata": {
        "id": "VUi4t8RiShlk",
        "colab": {
          "base_uri": "https://localhost:8080/"
        },
        "outputId": "dca5ad1b-c100-4b1b-fab9-792b0b134965"
      },
      "source": [
        " L = ['red', 'green', 'blue', 'yellow', 'black']\n",
        "print(L[-1])"
      ],
      "execution_count": null,
      "outputs": [
        {
          "output_type": "stream",
          "text": [
            "black\n"
          ],
          "name": "stdout"
        }
      ]
    },
    {
      "cell_type": "code",
      "metadata": {
        "id": "bFFpUKl0SyzK",
        "colab": {
          "base_uri": "https://localhost:8080/"
        },
        "outputId": "d135cadf-d482-4367-c557-803cc53e7a1c"
      },
      "source": [
        "L = ['a', 'b', 'c', 'd', 'e', 'f'] \n",
        "print(L[2:5])"
      ],
      "execution_count": null,
      "outputs": [
        {
          "output_type": "stream",
          "text": [
            "['c', 'd', 'e']\n"
          ],
          "name": "stdout"
        }
      ]
    },
    {
      "cell_type": "code",
      "metadata": {
        "id": "iUFKQhhyS7N8",
        "colab": {
          "base_uri": "https://localhost:8080/"
        },
        "outputId": "2b0193bd-6fa3-4118-a782-1163ae2b4af0"
      },
      "source": [
        "L = ['red', 'green', 'yellow']\n",
        "L.append('blue')\n",
        "print(L)"
      ],
      "execution_count": null,
      "outputs": [
        {
          "output_type": "stream",
          "text": [
            "['red', 'green', 'yellow', 'blue']\n"
          ],
          "name": "stdout"
        }
      ]
    },
    {
      "cell_type": "code",
      "metadata": {
        "id": "YazfXqhkTSdI",
        "colab": {
          "base_uri": "https://localhost:8080/"
        },
        "outputId": "bf1c650f-b0e5-479e-d84f-e1dbb586e47f"
      },
      "source": [
        "L = ['red', 'green', 'yellow']\n",
        "L.insert(1,'blue')\n",
        "print(L)"
      ],
      "execution_count": null,
      "outputs": [
        {
          "output_type": "stream",
          "text": [
            "['red', 'blue', 'green', 'yellow']\n"
          ],
          "name": "stdout"
        }
      ]
    },
    {
      "cell_type": "code",
      "metadata": {
        "id": "eZNw9K5UTbjr",
        "colab": {
          "base_uri": "https://localhost:8080/"
        },
        "outputId": "ae726c35-4314-4a34-be2f-205782a1658d"
      },
      "source": [
        "L = ['red', 'green', 'yellow']\n",
        "L.extend([1,2,3])\n",
        "print(L)"
      ],
      "execution_count": null,
      "outputs": [
        {
          "output_type": "stream",
          "text": [
            "['red', 'green', 'yellow', 1, 2, 3]\n"
          ],
          "name": "stdout"
        }
      ]
    },
    {
      "cell_type": "code",
      "metadata": {
        "id": "X6EpPIMNT--8",
        "colab": {
          "base_uri": "https://localhost:8080/"
        },
        "outputId": "8a173c6a-e8a2-44c4-dc63-761fc855668f"
      },
      "source": [
        "L = ['red', 'green', 'blue']\n",
        "L = L + [1,2,3]\n",
        "print(L)"
      ],
      "execution_count": null,
      "outputs": [
        {
          "output_type": "stream",
          "text": [
            "['red', 'green', 'blue', 1, 2, 3]\n"
          ],
          "name": "stdout"
        }
      ]
    },
    {
      "cell_type": "code",
      "metadata": {
        "id": "C2-je7NhUke9",
        "colab": {
          "base_uri": "https://localhost:8080/"
        },
        "outputId": "6a015306-cbbb-47c2-bcf0-e516c08e469f"
      },
      "source": [
        "L = ['red', 'green', 'blue']\n",
        "x = L.pop(1)\n",
        "print(L)"
      ],
      "execution_count": null,
      "outputs": [
        {
          "output_type": "stream",
          "text": [
            "['red', 'blue']\n"
          ],
          "name": "stdout"
        }
      ]
    },
    {
      "cell_type": "code",
      "metadata": {
        "id": "nU0eIWh6VJW-",
        "colab": {
          "base_uri": "https://localhost:8080/"
        },
        "outputId": "3bed7a9d-a815-415a-dfa0-71c54faacbb1"
      },
      "source": [
        "L = ['red', 'green', 'blue']\n",
        "L.remove('red')\n",
        "print(L)"
      ],
      "execution_count": null,
      "outputs": [
        {
          "output_type": "stream",
          "text": [
            "['green', 'blue']\n"
          ],
          "name": "stdout"
        }
      ]
    },
    {
      "cell_type": "code",
      "metadata": {
        "id": "ysIvF6ziVTMw",
        "colab": {
          "base_uri": "https://localhost:8080/"
        },
        "outputId": "38052ef0-535f-4aa3-f170-8e3642bc71cd"
      },
      "source": [
        "L = ['red', 'green', 'blue', 'yellow', 'black']\n",
        "del L[1:4]\n",
        "print(L)"
      ],
      "execution_count": null,
      "outputs": [
        {
          "output_type": "stream",
          "text": [
            "['red', 'black']\n"
          ],
          "name": "stdout"
        }
      ]
    },
    {
      "cell_type": "code",
      "metadata": {
        "id": "2_hL8BjJVZM2",
        "colab": {
          "base_uri": "https://localhost:8080/"
        },
        "outputId": "4dddd270-945e-43a1-84ed-d45df623a452"
      },
      "source": [
        "L = ['red', 'green', 'blue']\n",
        "print(len(L))"
      ],
      "execution_count": null,
      "outputs": [
        {
          "output_type": "stream",
          "text": [
            "3\n"
          ],
          "name": "stdout"
        }
      ]
    },
    {
      "cell_type": "code",
      "metadata": {
        "id": "4xw4jFoLVej8",
        "colab": {
          "base_uri": "https://localhost:8080/"
        },
        "outputId": "0711058b-ed57-459b-be69-008280657fee"
      },
      "source": [
        "L = ['red', 'green', 'blue']\n",
        "if 'red' in L:\n",
        "    print('yes')"
      ],
      "execution_count": null,
      "outputs": [
        {
          "output_type": "stream",
          "text": [
            "yes\n"
          ],
          "name": "stdout"
        }
      ]
    },
    {
      "cell_type": "code",
      "metadata": {
        "id": "eJWn378uVrZK",
        "colab": {
          "base_uri": "https://localhost:8080/"
        },
        "outputId": "1407d22a-ca07-4062-d08c-357edaa70025"
      },
      "source": [
        " L = ['a', 'b', 'c', 'd', 'e', 'f', 'g', 'h', 'i']\n",
        "print(L[2:7])"
      ],
      "execution_count": null,
      "outputs": [
        {
          "output_type": "stream",
          "text": [
            "['c', 'd', 'e', 'f', 'g']\n"
          ],
          "name": "stdout"
        }
      ]
    },
    {
      "cell_type": "code",
      "metadata": {
        "id": "OJdF_hAxVvhy",
        "colab": {
          "base_uri": "https://localhost:8080/"
        },
        "outputId": "ea5d1237-1104-43af-f372-2b7049d76eb2"
      },
      "source": [
        " \n",
        "L = ['a', 'b', 'c', 'd', 'e', 'f', 'g', 'h', 'i']\n",
        "print(L[-7:-2])"
      ],
      "execution_count": null,
      "outputs": [
        {
          "output_type": "stream",
          "text": [
            "['c', 'd', 'e', 'f', 'g']\n"
          ],
          "name": "stdout"
        }
      ]
    },
    {
      "cell_type": "code",
      "metadata": {
        "id": "dzZas73NV1u-",
        "colab": {
          "base_uri": "https://localhost:8080/"
        },
        "outputId": "9a84a082-2346-4890-ae73-2ce60ee05c61"
      },
      "source": [
        " \n",
        "L = ['a', 'b', 'c', 'd', 'e', 'f', 'g', 'h', 'i']\n",
        "print(L[2:7:2])"
      ],
      "execution_count": null,
      "outputs": [
        {
          "output_type": "stream",
          "text": [
            "['c', 'e', 'g']\n"
          ],
          "name": "stdout"
        }
      ]
    },
    {
      "cell_type": "code",
      "metadata": {
        "id": "DMAcQ2XGV3fI",
        "colab": {
          "base_uri": "https://localhost:8080/"
        },
        "outputId": "27d00c83-dc10-4fe2-fd45-07866d4d017d"
      },
      "source": [
        " \n",
        "L = ['a', 'b', 'c', 'd', 'e', 'f', 'g', 'h', 'i']\n",
        "print(L[6:1:-2])"
      ],
      "execution_count": null,
      "outputs": [
        {
          "output_type": "stream",
          "text": [
            "['g', 'e', 'c']\n"
          ],
          "name": "stdout"
        }
      ]
    },
    {
      "cell_type": "code",
      "metadata": {
        "id": "D-NbVHucXh1D",
        "colab": {
          "base_uri": "https://localhost:8080/"
        },
        "outputId": "06f7d58b-6dff-499f-a939-0aed91321d9f"
      },
      "source": [
        " \n",
        "L = []\n",
        "L.append(0)\n",
        "L.append(1)\n",
        "L.append(4)\n",
        "L.append(9)\n",
        "L.append(16)\n",
        "print(L)"
      ],
      "execution_count": null,
      "outputs": [
        {
          "output_type": "stream",
          "text": [
            "[0, 1, 4, 9, 16]\n"
          ],
          "name": "stdout"
        }
      ]
    },
    {
      "cell_type": "code",
      "metadata": {
        "id": "w_m-0bQ4Xnpq",
        "colab": {
          "base_uri": "https://localhost:8080/"
        },
        "outputId": "86a068a1-fd82-41d9-bec8-7b1812f8a6ec"
      },
      "source": [
        " \n",
        "L = []\n",
        "for x in range(5):\n",
        "    L.append(x**2)\n",
        "print(L)"
      ],
      "execution_count": null,
      "outputs": [
        {
          "output_type": "stream",
          "text": [
            "[0, 1, 4, 9, 16]\n"
          ],
          "name": "stdout"
        }
      ]
    },
    {
      "cell_type": "code",
      "metadata": {
        "id": "bWhg5KoDXzVU",
        "colab": {
          "base_uri": "https://localhost:8080/"
        },
        "outputId": "1ae3e12b-bf5c-417e-ab92-bf75cf6a4ca4"
      },
      "source": [
        "L=[ i**2 for i in range(5)]\n",
        "print(L)"
      ],
      "execution_count": null,
      "outputs": [
        {
          "output_type": "stream",
          "text": [
            "[0, 1, 4, 9, 16]\n"
          ],
          "name": "stdout"
        }
      ]
    },
    {
      "cell_type": "code",
      "metadata": {
        "id": "dD5fmlSlamrG",
        "colab": {
          "base_uri": "https://localhost:8080/"
        },
        "outputId": "4853eb30-fad7-461c-fe1a-e2165aa7b5c7"
      },
      "source": [
        " \n",
        "L = [x*3 for x in 'RED']\n",
        "print(L)"
      ],
      "execution_count": null,
      "outputs": [
        {
          "output_type": "stream",
          "text": [
            "['RRR', 'EEE', 'DDD']\n"
          ],
          "name": "stdout"
        }
      ]
    },
    {
      "cell_type": "code",
      "metadata": {
        "id": "eYeRXW5kanEd",
        "colab": {
          "base_uri": "https://localhost:8080/"
        },
        "outputId": "bd5c4261-f997-4905-d9ce-7fd97b06cd85"
      },
      "source": [
        " \n",
        "vec = [-4, -2, 0, 2, 4]\n",
        "L = [abs(x) for x in vec]\n",
        "print(L)"
      ],
      "execution_count": null,
      "outputs": [
        {
          "output_type": "stream",
          "text": [
            "[4, 2, 0, 2, 4]\n"
          ],
          "name": "stdout"
        }
      ]
    },
    {
      "cell_type": "code",
      "metadata": {
        "id": "0DFsnUz9c5OE",
        "colab": {
          "base_uri": "https://localhost:8080/"
        },
        "outputId": "65b5caa3-02f9-43b1-9799-ba1be4dd55da"
      },
      "source": [
        " \n",
        "vec = [-4, -2, 0, 2, 4]\n",
        "L = [x for x in vec if x >= 0]\n",
        "print(L)"
      ],
      "execution_count": null,
      "outputs": [
        {
          "output_type": "stream",
          "text": [
            "[0, 2, 4]\n"
          ],
          "name": "stdout"
        }
      ]
    },
    {
      "cell_type": "code",
      "metadata": {
        "id": "RWtheLW9c5jT",
        "colab": {
          "base_uri": "https://localhost:8080/"
        },
        "outputId": "4b80499b-77fd-441b-c703-e25f9e1a8769"
      },
      "source": [
        " \n",
        "vec = [-4, -2, 0, 2, 4]\n",
        "L = []\n",
        "for x in vec:\n",
        "    if x >= 0:\n",
        "        L.append(x)\n",
        "print(L)"
      ],
      "execution_count": null,
      "outputs": [
        {
          "output_type": "stream",
          "text": [
            "[0, 2, 4]\n"
          ],
          "name": "stdout"
        }
      ]
    },
    {
      "cell_type": "code",
      "metadata": {
        "id": "e9wmmhJFc50d",
        "colab": {
          "base_uri": "https://localhost:8080/"
        },
        "outputId": "39c16ffd-98cd-4829-b31b-546b41d44048"
      },
      "source": [
        " \n",
        "def myfunc():\n",
        "    x = 42      # local scope x\n",
        "    print(x)\n",
        " \n",
        "myfunc()"
      ],
      "execution_count": null,
      "outputs": [
        {
          "output_type": "stream",
          "text": [
            "42\n"
          ],
          "name": "stdout"
        }
      ]
    },
    {
      "cell_type": "code",
      "metadata": {
        "id": "4tOFTplkjeee",
        "colab": {
          "base_uri": "https://localhost:8080/"
        },
        "outputId": "8012ee63-c6bb-4f29-f70d-d92ae298e169"
      },
      "source": [
        " \n",
        " M=55\n",
        "def myfunc():\n",
        "    M = 42      # local scope x\n",
        "    \n",
        " \n",
        "myfunc()  \n",
        "print(M)"
      ],
      "execution_count": null,
      "outputs": [
        {
          "output_type": "stream",
          "text": [
            "55\n"
          ],
          "name": "stdout"
        }
      ]
    },
    {
      "cell_type": "code",
      "metadata": {
        "id": "Ypb2rgvhkbVM",
        "colab": {
          "base_uri": "https://localhost:8080/"
        },
        "outputId": "c2df5f42-af6f-4e36-cb1f-a60f4f1199c8"
      },
      "source": [
        "!pwd"
      ],
      "execution_count": null,
      "outputs": [
        {
          "output_type": "stream",
          "text": [
            "/content\n"
          ],
          "name": "stdout"
        }
      ]
    }
  ]
}